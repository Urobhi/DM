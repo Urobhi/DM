{
  "nbformat": 4,
  "nbformat_minor": 0,
  "metadata": {
    "colab": {
      "name": "TPAA02G5-dataset.ipynb",
      "provenance": [],
      "collapsed_sections": []
    },
    "kernelspec": {
      "name": "python3",
      "display_name": "Python 3"
    }
  },
  "cells": [
    {
      "cell_type": "markdown",
      "metadata": {
        "id": "SpdMP8Tlj7VC",
        "colab_type": "text"
      },
      "source": [
        "Importacion de librerias, datos y parámetros"
      ]
    },
    {
      "cell_type": "code",
      "metadata": {
        "id": "kmk8Y-Y5KX75",
        "colab_type": "code",
        "colab": {
          "base_uri": "https://localhost:8080/",
          "height": 204
        },
        "outputId": "55d007b5-0c11-4d14-d5e9-2862aaf893f1"
      },
      "source": [
        "!wget http://download.tensorflow.org/data/speech_commands_v0.01.tar.gz\n",
        "!mkdir speechcommands\n",
        "!tar -xf speech_commands_v0.01.tar.gz -C /content/speechcommands"
      ],
      "execution_count": null,
      "outputs": [
        {
          "output_type": "stream",
          "text": [
            "--2020-06-26 14:10:48--  http://download.tensorflow.org/data/speech_commands_v0.01.tar.gz\n",
            "Resolving download.tensorflow.org (download.tensorflow.org)... 74.125.142.128, 2607:f8b0:400e:c08::80\n",
            "Connecting to download.tensorflow.org (download.tensorflow.org)|74.125.142.128|:80... connected.\n",
            "HTTP request sent, awaiting response... 200 OK\n",
            "Length: 1489096277 (1.4G) [application/gzip]\n",
            "Saving to: ‘speech_commands_v0.01.tar.gz’\n",
            "\n",
            "speech_commands_v0. 100%[===================>]   1.39G  93.8MB/s    in 16s     \n",
            "\n",
            "2020-06-26 14:11:04 (89.6 MB/s) - ‘speech_commands_v0.01.tar.gz’ saved [1489096277/1489096277]\n",
            "\n"
          ],
          "name": "stdout"
        }
      ]
    },
    {
      "cell_type": "code",
      "metadata": {
        "id": "mP7u4IVZI6HH",
        "colab_type": "code",
        "colab": {}
      },
      "source": [
        "import os\n",
        "import glob\n",
        "import librosa\n",
        "import numpy as np\n",
        "import pandas as pd\n",
        "from google.colab import drive"
      ],
      "execution_count": null,
      "outputs": []
    },
    {
      "cell_type": "code",
      "metadata": {
        "id": "Eg8unCJl2mq5",
        "colab_type": "code",
        "colab": {
          "base_uri": "https://localhost:8080/",
          "height": 122
        },
        "outputId": "1b490772-932a-4ba0-a1f8-8f2c6394b8dd"
      },
      "source": [
        "working_directory = '/content/speechcommands'\n",
        "numbers = ['zero', 'one', 'two', 'three', 'four', 'five', 'six', 'seven', 'eight', 'nine']\n",
        "drive.mount('/content/drive')"
      ],
      "execution_count": null,
      "outputs": [
        {
          "output_type": "stream",
          "text": [
            "Go to this URL in a browser: https://accounts.google.com/o/oauth2/auth?client_id=947318989803-6bn6qk8qdgf4n4g3pfee6491hc0brc4i.apps.googleusercontent.com&redirect_uri=urn%3aietf%3awg%3aoauth%3a2.0%3aoob&response_type=code&scope=email%20https%3a%2f%2fwww.googleapis.com%2fauth%2fdocs.test%20https%3a%2f%2fwww.googleapis.com%2fauth%2fdrive%20https%3a%2f%2fwww.googleapis.com%2fauth%2fdrive.photos.readonly%20https%3a%2f%2fwww.googleapis.com%2fauth%2fpeopleapi.readonly\n",
            "\n",
            "Enter your authorization code:\n",
            "··········\n",
            "Mounted at /content/drive\n"
          ],
          "name": "stdout"
        }
      ]
    },
    {
      "cell_type": "markdown",
      "metadata": {
        "id": "flrsYcrzkADf",
        "colab_type": "text"
      },
      "source": [
        "#Función suplementaria"
      ]
    },
    {
      "cell_type": "code",
      "metadata": {
        "id": "9UoUOfzYKnzH",
        "colab_type": "code",
        "colab": {}
      },
      "source": [
        "def calculate_features(filename, n_mfcc=12,delta=True,deltadelta=True,energy=True, summary_fn = [np.mean, np.std], summary_names=['mean','std']):\n",
        "  #Abro el archivo:\n",
        "  x, sr = librosa.core.load(filename,sr=None)\n",
        "  \n",
        "  #Calculo MFCCs\n",
        "  features = librosa.feature.mfcc(x,sr=sr,n_mfcc=n_mfcc)\n",
        "  feat_names = ['mfcc_{}'.format(i) for i in range(n_mfcc)]\n",
        "  #Calculo energia:\n",
        "  if energy:\n",
        "    energy = librosa.feature.rmse(x)\n",
        "    features = np.concatenate([features,energy])\n",
        "    feat_names = feat_names + ['energy']\n",
        "  #Aplico media y desvio estandar por defecto\n",
        "  summary_features = np.concatenate([fn(features,axis=1) for fn in summary_fn])\n",
        "  \n",
        "  #Lo mismo con los delta\n",
        "  if delta:\n",
        "    deltafeatures = np.diff(features)\n",
        "    summary_features = np.concatenate([summary_features,np.concatenate([fn(deltafeatures,axis=1) for fn in summary_fn])])\n",
        "    d_names = ['d{}'.format(name) for name in feat_names]\n",
        "  else:\n",
        "    d_names = []\n",
        "\n",
        "  #Y con los delta de segundo orden\n",
        "  if deltadelta:\n",
        "    deltadeltafeatures = np.diff(features,n=2)\n",
        "    summary_features = np.concatenate([summary_features,np.concatenate([fn(deltadeltafeatures,axis=1) for fn in summary_fn])]) \n",
        "    dd_names = ['dd{}'.format(name) for name in feat_names]\n",
        "  else:\n",
        "    dd_names = []\n",
        "\n",
        "  feat_names = feat_names + d_names + dd_names\n",
        "  #feat_names = ['{}_{}'.format(feat,summary) for feat in feat_names for summary in summary_names]\n",
        "  feat_names = ['{}_{}'.format(name_i,summ_i) for summ_i in summary_names for name_i in feat_names]\n",
        "  return summary_features, feat_names  "
      ],
      "execution_count": null,
      "outputs": []
    },
    {
      "cell_type": "markdown",
      "metadata": {
        "id": "pOW2kfqrkC6u",
        "colab_type": "text"
      },
      "source": [
        "#Division en Entrenamiento validación y prueba"
      ]
    },
    {
      "cell_type": "code",
      "metadata": {
        "id": "zDIUU1nSm4Yp",
        "colab_type": "code",
        "colab": {}
      },
      "source": [
        "def fill_types(file_type, file, t, base_path = '/content/speechcommands'):\n",
        "    for line in file:\n",
        "        line = line.strip()\n",
        "        for number in numbers:\n",
        "            if line.startswith(number + '/'):\n",
        "                file_type[os.path.join(base_path, line)] = t"
      ],
      "execution_count": null,
      "outputs": []
    },
    {
      "cell_type": "code",
      "metadata": {
        "id": "r9Lzs-hd2F98",
        "colab_type": "code",
        "colab": {}
      },
      "source": [
        "file_type = {}\n",
        "\n",
        "with open('/content/speechcommands/testing_list.txt') as file:\n",
        "    fill_types(file_type, file, 'testing', base_path = working_directory)\n",
        "\n",
        "with open('/content/speechcommands/validation_list.txt') as file:\n",
        "    fill_types(file_type, file, 'validation', base_path = working_directory)"
      ],
      "execution_count": null,
      "outputs": []
    },
    {
      "cell_type": "markdown",
      "metadata": {
        "id": "NwCnquHXkKFC",
        "colab_type": "text"
      },
      "source": [
        "# Generacion de dataset y guardado en drive"
      ]
    },
    {
      "cell_type": "code",
      "metadata": {
        "id": "gpiys74JnLry",
        "colab_type": "code",
        "colab": {}
      },
      "source": [
        "data = []\n",
        "columns = []\n",
        "\n",
        "for number in numbers:\n",
        "    for filepath in glob.glob(working_directory + '/' + number  + '/' + '/*.wav'):\n",
        "        feat, names = calculate_features(filepath)\n",
        "        t = file_type[filepath] if filepath in file_type else 'training'\n",
        "        data.append(np.append(feat, [number, filepath, t]))\n",
        "        columns = names + ['target', 'filename', 'type']\n"
      ],
      "execution_count": null,
      "outputs": []
    },
    {
      "cell_type": "code",
      "metadata": {
        "id": "CKkOYa_iZuZ2",
        "colab_type": "code",
        "colab": {
          "base_uri": "https://localhost:8080/",
          "height": 34
        },
        "outputId": "2dc4862f-3310-43e2-a8b0-b4df0156f2a1"
      },
      "source": [
        "dataset = pd.DataFrame(data, columns = columns)\n",
        "print(dataset.shape)\n",
        "dataset.to_csv('/content/drive/My Drive/aa-tp2-dataset.csv', header=True, index=True)"
      ],
      "execution_count": null,
      "outputs": [
        {
          "output_type": "stream",
          "text": [
            "(23666, 81)\n"
          ],
          "name": "stdout"
        }
      ]
    }
  ]
}