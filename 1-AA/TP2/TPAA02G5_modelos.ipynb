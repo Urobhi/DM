{
  "nbformat": 4,
  "nbformat_minor": 0,
  "metadata": {
    "colab": {
      "name": " TPAA02G5-modelos.ipynb",
      "provenance": [],
      "collapsed_sections": []
    },
    "kernelspec": {
      "name": "python3",
      "display_name": "Python 3"
    }
  },
  "cells": [
    {
      "cell_type": "markdown",
      "metadata": {
        "id": "zGyafGeQB5NZ",
        "colab_type": "text"
      },
      "source": [
        "a) Extraer atributos a partir de los audios correspondientes a los digitos del 0 al 9. Utilizar el [material suplementario](https://colab.research.google.com/drive/1Yv2SaE529gNIcKd68nAd8LzhFip6vm12?usp=sharing) dado durante la clase de presentación del TP.\n",
        "- [Colab de extracción del dataset](https://colab.research.google.com/drive/1-2VwDfO-7sYHUrJdnL-oFS9LMEmroXT2)"
      ]
    },
    {
      "cell_type": "markdown",
      "metadata": {
        "id": "NLkf2muNkXPA",
        "colab_type": "text"
      },
      "source": [
        "# Importacion de librerias, archivos y parámetros"
      ]
    },
    {
      "cell_type": "code",
      "metadata": {
        "id": "gxCCqxJ1QuaO",
        "colab_type": "code",
        "colab": {}
      },
      "source": [
        "import pandas as pd\n",
        "import numpy as np\n",
        "random_state = 1"
      ],
      "execution_count": null,
      "outputs": []
    },
    {
      "cell_type": "code",
      "metadata": {
        "id": "MOe-4NkK2Ka_",
        "colab_type": "code",
        "colab": {
          "base_uri": "https://localhost:8080/",
          "height": 54
        },
        "outputId": "52b94761-ea32-41bf-d533-0dc932a0b0af"
      },
      "source": [
        "from google.colab import drive\n",
        "drive.mount('/content/drive')"
      ],
      "execution_count": null,
      "outputs": [
        {
          "output_type": "stream",
          "text": [
            "Drive already mounted at /content/drive; to attempt to forcibly remount, call drive.mount(\"/content/drive\", force_remount=True).\n"
          ],
          "name": "stdout"
        }
      ]
    },
    {
      "cell_type": "code",
      "metadata": {
        "id": "ZJrlGQ6yVL32",
        "colab_type": "code",
        "colab": {}
      },
      "source": [
        "url = 'https://raw.githubusercontent.com/NickCis/maestria-dm-datasets/master/tp-2/dataset.csv'\n",
        "dataset = pd.read_csv(url, index_col = 0)\n",
        "print(dataset.shape)\n",
        "dataset.head()\n",
        "\n",
        "testing = dataset[dataset['type'] == 'testing']\n",
        "testing.to_csv('/content/testing.csv', header=True, index=True)"
      ],
      "execution_count": null,
      "outputs": []
    },
    {
      "cell_type": "code",
      "metadata": {
        "id": "hiSx7zWE-OrO",
        "colab_type": "code",
        "colab": {
          "base_uri": "https://localhost:8080/",
          "height": 1000
        },
        "outputId": "cd622c06-3641-4f7d-c7a1-ae031ac0699f"
      },
      "source": [
        "target = 'target'\n",
        "features = list(filter(lambda x: not (x in [target, 'filename', 'type']), dataset.columns))"
      ],
      "execution_count": null,
      "outputs": [
        {
          "output_type": "execute_result",
          "data": {
            "text/plain": [
              "['mfcc_0_mean',\n",
              " 'mfcc_1_mean',\n",
              " 'mfcc_2_mean',\n",
              " 'mfcc_3_mean',\n",
              " 'mfcc_4_mean',\n",
              " 'mfcc_5_mean',\n",
              " 'mfcc_6_mean',\n",
              " 'mfcc_7_mean',\n",
              " 'mfcc_8_mean',\n",
              " 'mfcc_9_mean',\n",
              " 'mfcc_10_mean',\n",
              " 'mfcc_11_mean',\n",
              " 'energy_mean',\n",
              " 'dmfcc_0_mean',\n",
              " 'dmfcc_1_mean',\n",
              " 'dmfcc_2_mean',\n",
              " 'dmfcc_3_mean',\n",
              " 'dmfcc_4_mean',\n",
              " 'dmfcc_5_mean',\n",
              " 'dmfcc_6_mean',\n",
              " 'dmfcc_7_mean',\n",
              " 'dmfcc_8_mean',\n",
              " 'dmfcc_9_mean',\n",
              " 'dmfcc_10_mean',\n",
              " 'dmfcc_11_mean',\n",
              " 'denergy_mean',\n",
              " 'ddmfcc_0_mean',\n",
              " 'ddmfcc_1_mean',\n",
              " 'ddmfcc_2_mean',\n",
              " 'ddmfcc_3_mean',\n",
              " 'ddmfcc_4_mean',\n",
              " 'ddmfcc_5_mean',\n",
              " 'ddmfcc_6_mean',\n",
              " 'ddmfcc_7_mean',\n",
              " 'ddmfcc_8_mean',\n",
              " 'ddmfcc_9_mean',\n",
              " 'ddmfcc_10_mean',\n",
              " 'ddmfcc_11_mean',\n",
              " 'ddenergy_mean',\n",
              " 'mfcc_0_std',\n",
              " 'mfcc_1_std',\n",
              " 'mfcc_2_std',\n",
              " 'mfcc_3_std',\n",
              " 'mfcc_4_std',\n",
              " 'mfcc_5_std',\n",
              " 'mfcc_6_std',\n",
              " 'mfcc_7_std',\n",
              " 'mfcc_8_std',\n",
              " 'mfcc_9_std',\n",
              " 'mfcc_10_std',\n",
              " 'mfcc_11_std',\n",
              " 'energy_std',\n",
              " 'dmfcc_0_std',\n",
              " 'dmfcc_1_std',\n",
              " 'dmfcc_2_std',\n",
              " 'dmfcc_3_std',\n",
              " 'dmfcc_4_std',\n",
              " 'dmfcc_5_std',\n",
              " 'dmfcc_6_std',\n",
              " 'dmfcc_7_std',\n",
              " 'dmfcc_8_std',\n",
              " 'dmfcc_9_std',\n",
              " 'dmfcc_10_std',\n",
              " 'dmfcc_11_std',\n",
              " 'denergy_std',\n",
              " 'ddmfcc_0_std',\n",
              " 'ddmfcc_1_std',\n",
              " 'ddmfcc_2_std',\n",
              " 'ddmfcc_3_std',\n",
              " 'ddmfcc_4_std',\n",
              " 'ddmfcc_5_std',\n",
              " 'ddmfcc_6_std',\n",
              " 'ddmfcc_7_std',\n",
              " 'ddmfcc_8_std',\n",
              " 'ddmfcc_9_std',\n",
              " 'ddmfcc_10_std',\n",
              " 'ddmfcc_11_std',\n",
              " 'ddenergy_std']"
            ]
          },
          "metadata": {
            "tags": []
          },
          "execution_count": 4
        }
      ]
    },
    {
      "cell_type": "markdown",
      "metadata": {
        "id": "t5kdQ1r1CaU5",
        "colab_type": "text"
      },
      "source": [
        "b) Utilizar la división de datos provista en el dataset para entrenamiento, validación y evaluación de los modelos a desarrollar."
      ]
    },
    {
      "cell_type": "code",
      "metadata": {
        "id": "_kdtb_8I8rNP",
        "colab_type": "code",
        "colab": {
          "base_uri": "https://localhost:8080/",
          "height": 486
        },
        "outputId": "d86f64dc-92cb-4f47-af4b-29bb39e74173"
      },
      "source": [
        "training = dataset[dataset['type'] == 'training']\n",
        "testing = dataset[dataset['type'] == 'testing']\n",
        "validation = dataset[dataset['type'] == 'validation']\n",
        "\n",
        "print(\"training\", training.shape)\n",
        "print(\"testing\", testing.shape)\n",
        "print(\"validation\", validation.shape)\n",
        "training[target].value_counts().plot.pie()\n",
        "training[target].value_counts()"
      ],
      "execution_count": null,
      "outputs": [
        {
          "output_type": "stream",
          "text": [
            "training (18620, 81)\n",
            "testing (2552, 81)\n",
            "validation (2494, 81)\n"
          ],
          "name": "stdout"
        },
        {
          "output_type": "execute_result",
          "data": {
            "text/plain": [
              "one      1892\n",
              "nine     1875\n",
              "seven    1875\n",
              "two      1873\n",
              "zero     1866\n",
              "six      1863\n",
              "eight    1852\n",
              "five     1844\n",
              "three    1841\n",
              "four     1839\n",
              "Name: target, dtype: int64"
            ]
          },
          "metadata": {
            "tags": []
          },
          "execution_count": 4
        },
        {
          "output_type": "display_data",
          "data": {
            "image/png": "[encoded data removed]",
            "text/plain": [
              "<Figure size 432x288 with 1 Axes>"
            ]
          },
          "metadata": {
            "tags": []
          }
        }
      ]
    },
    {
      "cell_type": "markdown",
      "metadata": {
        "id": "RfQqND50--Sy",
        "colab_type": "text"
      },
      "source": [
        "c) Entrenar modelos de Naive Bayes, Random Forest y Gradient Boosting Machines para predecir a partir de los atributos acústicos el dígito pronunciado\n",
        "- [Naive Bayes](https://scikit-learn.org/stable/modules/naive_bayes.html)\n",
        "- [Gaussian Naive Bayes](https://scikit-learn.org/stable/modules/generated/sklearn.naive_bayes.GaussianNB.html)"
      ]
    },
    {
      "cell_type": "markdown",
      "metadata": {
        "id": "CaLr-tBCEeB9",
        "colab_type": "text"
      },
      "source": [
        "Naive Bayes"
      ]
    },
    {
      "cell_type": "code",
      "metadata": {
        "id": "OCZtKRjg967y",
        "colab_type": "code",
        "colab": {
          "base_uri": "https://localhost:8080/",
          "height": 585
        },
        "outputId": "7bac2b32-1b24-4f39-d88e-e3685b47d1dd"
      },
      "source": [
        "from sklearn.naive_bayes import GaussianNB\n",
        "from sklearn.metrics import accuracy_score, plot_confusion_matrix, classification_report\n",
        "import matplotlib.pyplot as plt\n",
        "\n",
        "clf_nb = GaussianNB()\n",
        "clf_nb.fit(training[features], training[target])\n",
        "clf_nb_y_pred = clf_nb.predict(testing[features])\n",
        "print(accuracy_score(testing[target], clf_nb_y_pred))\n",
        "\n",
        "plot_confusion_matrix(clf_nb, testing[features], testing[target], values_format = 'd')\n",
        "plt.show()\n",
        "print(classification_report(testing[target], clf_nb_y_pred, zero_division = 0, labels = labels))"
      ],
      "execution_count": null,
      "outputs": [
        {
          "output_type": "stream",
          "text": [
            "0.5282131661442007\n"
          ],
          "name": "stdout"
        },
        {
          "output_type": "display_data",
          "data": {
            "image/png": "[encoded data removed]",
            "text/plain": [
              "<Figure size 432x288 with 2 Axes>"
            ]
          },
          "metadata": {
            "tags": [],
            "needs_background": "light"
          }
        },
        {
          "output_type": "stream",
          "text": [
            "              precision    recall  f1-score   support\n",
            "\n",
            "       eight       0.62      0.61      0.62       257\n",
            "        five       0.61      0.58      0.60       271\n",
            "        four       0.68      0.56      0.61       253\n",
            "        nine       0.58      0.45      0.51       259\n",
            "         one       0.39      0.49      0.43       248\n",
            "       seven       0.56      0.47      0.51       239\n",
            "         six       0.47      0.65      0.55       244\n",
            "       three       0.54      0.48      0.51       267\n",
            "         two       0.41      0.49      0.44       264\n",
            "        zero       0.55      0.50      0.53       250\n",
            "\n",
            "    accuracy                           0.53      2552\n",
            "   macro avg       0.54      0.53      0.53      2552\n",
            "weighted avg       0.54      0.53      0.53      2552\n",
            "\n"
          ],
          "name": "stdout"
        }
      ]
    },
    {
      "cell_type": "markdown",
      "metadata": {
        "id": "xQdCmbR8EhEh",
        "colab_type": "text"
      },
      "source": [
        "Random Forest:\n",
        "- https://scikit-learn.org/stable/modules/generated/sklearn.ensemble.RandomForestClassifier.html"
      ]
    },
    {
      "cell_type": "code",
      "metadata": {
        "id": "eACuRq-1EgZR",
        "colab_type": "code",
        "colab": {}
      },
      "source": [
        "# Como el dataset esta balanceado vamos a usar accuracy como metrica de perf\n",
        "from sklearn.metrics import accuracy_score\n",
        "from sklearn.ensemble import RandomForestClassifier\n",
        "from sklearn.model_selection import ParameterSampler\n",
        "\n",
        "# Usamos busqueda de hiperparametros como sugirio Leo\n",
        "def search_best_params(model, param_distributions, n_iter = 100, random_state = random_state):\n",
        "    best_score = 0\n",
        "    best_params = None\n",
        "\n",
        "    for params in ParameterSampler(param_distributions, n_iter, random_state = random_state):\n",
        "        clf = model(random_state = random_state, **params)\n",
        "        clf.fit(training[features], training[target])\n",
        "        clf_y_pred = clf.predict(validation[features])\n",
        "        score = accuracy_score(validation[target], clf_y_pred)\n",
        "\n",
        "        if (score > best_score):\n",
        "            best_score = score\n",
        "            best_params = params\n",
        "\n",
        "    return best_params\n",
        "\n",
        "# Hacemos una busqueda aleatoria de hiperparametros\n",
        "param_distributions = {\n",
        "    'n_estimators': range(50, 200, 5),\n",
        "    'max_depth': range(1, 6),\n",
        "    'bootstrap': [True, False]\n",
        "}\n",
        "\n",
        "rf_best_params = search_best_params(RandomForestClassifier, param_distributions)\n"
      ],
      "execution_count": null,
      "outputs": []
    },
    {
      "cell_type": "code",
      "metadata": {
        "id": "4MkHs3gDPPgc",
        "colab_type": "code",
        "colab": {
          "base_uri": "https://localhost:8080/",
          "height": 34
        },
        "outputId": "3eec6deb-8999-4392-a25b-c562bb16b74e"
      },
      "source": [
        "rf_best_params"
      ],
      "execution_count": null,
      "outputs": [
        {
          "output_type": "execute_result",
          "data": {
            "text/plain": [
              "{'bootstrap': True, 'max_depth': 5, 'n_estimators': 185}"
            ]
          },
          "metadata": {
            "tags": []
          },
          "execution_count": 15
        }
      ]
    },
    {
      "cell_type": "code",
      "metadata": {
        "id": "1BiMMWbojCon",
        "colab_type": "code",
        "colab": {
          "base_uri": "https://localhost:8080/",
          "height": 585
        },
        "outputId": "98b3540a-ba69-48a5-d5a2-903d89ea0dcd"
      },
      "source": [
        "clf_rf = RandomForestClassifier(random_state = random_state, **rf_best_params)\n",
        "clf_rf.fit(training[features], training[target])\n",
        "clf_rf_y_pred = clf_rf.predict(testing[features])\n",
        "print(accuracy_score(testing[target], clf_rf_y_pred))\n",
        "plot_confusion_matrix(clf_rf, testing[features], testing[target], values_format = 'd')\n",
        "plt.show()\n",
        "print(classification_report(testing[target], clf_rf_y_pred))"
      ],
      "execution_count": null,
      "outputs": [
        {
          "output_type": "stream",
          "text": [
            "0.5454545454545454\n"
          ],
          "name": "stdout"
        },
        {
          "output_type": "display_data",
          "data": {
            "image/png": "[encoded data removed]",
            "text/plain": [
              "<Figure size 432x288 with 2 Axes>"
            ]
          },
          "metadata": {
            "tags": [],
            "needs_background": "light"
          }
        },
        {
          "output_type": "stream",
          "text": [
            "              precision    recall  f1-score   support\n",
            "\n",
            "       eight       0.57      0.82      0.68       257\n",
            "        five       0.59      0.41      0.49       271\n",
            "        four       0.60      0.66      0.63       253\n",
            "        nine       0.58      0.58      0.58       259\n",
            "         one       0.43      0.36      0.40       248\n",
            "       seven       0.52      0.57      0.55       239\n",
            "         six       0.52      0.67      0.59       244\n",
            "       three       0.57      0.44      0.50       267\n",
            "         two       0.60      0.37      0.45       264\n",
            "        zero       0.48      0.60      0.53       250\n",
            "\n",
            "    accuracy                           0.55      2552\n",
            "   macro avg       0.55      0.55      0.54      2552\n",
            "weighted avg       0.55      0.55      0.54      2552\n",
            "\n"
          ],
          "name": "stdout"
        }
      ]
    },
    {
      "cell_type": "markdown",
      "metadata": {
        "id": "jQmYJwaZEl9_",
        "colab_type": "text"
      },
      "source": [
        "Gradient Boosting Machines:\n",
        "- https://scikit-learn.org/stable/modules/generated/sklearn.ensemble.GradientBoostingClassifier.html"
      ]
    },
    {
      "cell_type": "code",
      "metadata": {
        "id": "HQtjz6lyEmVr",
        "colab_type": "code",
        "colab": {}
      },
      "source": [
        "from sklearn.ensemble import GradientBoostingClassifier\n",
        "\n",
        "param_distributions = {\n",
        "    'n_estimators': range(20, 200, 5),\n",
        "    'max_depth': range(1, 7),\n",
        "    'learning_rate': np.arange(0, 1, 0.001)\n",
        "}\n",
        "\n",
        "gb_best_params = search_best_params(GradientBoostingClassifier, param_distributions, n_iter = 10)"
      ],
      "execution_count": null,
      "outputs": []
    },
    {
      "cell_type": "code",
      "metadata": {
        "id": "IAbsGqGutfpk",
        "colab_type": "code",
        "colab": {
          "base_uri": "https://localhost:8080/",
          "height": 34
        },
        "outputId": "b10361a6-3c9c-47e5-cd0b-e0eff258ca97"
      },
      "source": [
        "gb_best_params"
      ],
      "execution_count": null,
      "outputs": [
        {
          "output_type": "execute_result",
          "data": {
            "text/plain": [
              "{'learning_rate': 0.505, 'max_depth': 5, 'n_estimators': 195}"
            ]
          },
          "metadata": {
            "tags": []
          },
          "execution_count": 18
        }
      ]
    },
    {
      "cell_type": "code",
      "metadata": {
        "id": "upyyn1JAtg7o",
        "colab_type": "code",
        "colab": {
          "base_uri": "https://localhost:8080/",
          "height": 585
        },
        "outputId": "09341e68-5c62-4ad4-b4de-5dcbd1bf5d5c"
      },
      "source": [
        "clf_gb = GradientBoostingClassifier(random_state = random_state, **gb_best_params)\n",
        "clf_gb.fit(training[features], training[target])\n",
        "clf_gb_y_pred = clf_gb.predict(testing[features])\n",
        "print(accuracy_score(testing[target], clf_gb_y_pred))\n",
        "plot_confusion_matrix(clf_gb, testing[features], testing[target], values_format = 'd')\n",
        "plt.show()\n",
        "print(classification_report(testing[target], clf_gb_y_pred))"
      ],
      "execution_count": null,
      "outputs": [
        {
          "output_type": "stream",
          "text": [
            "0.7405956112852664\n"
          ],
          "name": "stdout"
        },
        {
          "output_type": "display_data",
          "data": {
            "image/png": "[encoded data removed]",
            "text/plain": [
              "<Figure size 432x288 with 2 Axes>"
            ]
          },
          "metadata": {
            "tags": [],
            "needs_background": "light"
          }
        },
        {
          "output_type": "stream",
          "text": [
            "              precision    recall  f1-score   support\n",
            "\n",
            "       eight       0.80      0.81      0.80       257\n",
            "        five       0.74      0.77      0.75       271\n",
            "        four       0.80      0.73      0.76       253\n",
            "        nine       0.75      0.76      0.76       259\n",
            "         one       0.72      0.65      0.68       248\n",
            "       seven       0.71      0.80      0.75       239\n",
            "         six       0.82      0.81      0.81       244\n",
            "       three       0.62      0.69      0.65       267\n",
            "         two       0.69      0.68      0.68       264\n",
            "        zero       0.78      0.73      0.75       250\n",
            "\n",
            "    accuracy                           0.74      2552\n",
            "   macro avg       0.74      0.74      0.74      2552\n",
            "weighted avg       0.74      0.74      0.74      2552\n",
            "\n"
          ],
          "name": "stdout"
        }
      ]
    },
    {
      "cell_type": "markdown",
      "metadata": {
        "id": "EiPVEhKj1oeb",
        "colab_type": "text"
      },
      "source": [
        "Guardo los modelos para no tener que ejecutar todo de nuevo\n",
        "- [3.4. Model persistence](https://scikit-learn.org/stable/modules/model_persistence.html)"
      ]
    },
    {
      "cell_type": "code",
      "metadata": {
        "id": "Jf3x4_yFDKh_",
        "colab_type": "code",
        "colab": {
          "base_uri": "https://localhost:8080/",
          "height": 34
        },
        "outputId": "a7081033-8a25-4a66-9a79-15ba00efe14a"
      },
      "source": [
        "from joblib import dump\n",
        "\n",
        "models = {\n",
        "    'clf_rf': clf_rf,\n",
        "    'rf_best_params': rf_best_params,\n",
        "    'gb_best_params': gb_best_params,\n",
        "    'clf_gb': clf_gb,\n",
        "    'clf_nb': clf_nb,\n",
        "}\n",
        "\n",
        "dump(models, '/content/drive/My Drive/aa-tp2-models.joblib') "
      ],
      "execution_count": null,
      "outputs": [
        {
          "output_type": "execute_result",
          "data": {
            "text/plain": [
              "['/content/drive/My Drive/aa-tp2-models.joblib.csv']"
            ]
          },
          "metadata": {
            "tags": []
          },
          "execution_count": 20
        }
      ]
    },
    {
      "cell_type": "markdown",
      "metadata": {
        "id": "xGidhYiy2J7W",
        "colab_type": "text"
      },
      "source": [
        "Cargo modelos"
      ]
    },
    {
      "cell_type": "code",
      "metadata": {
        "id": "pDWev7jk1nc7",
        "colab_type": "code",
        "colab": {
          "base_uri": "https://localhost:8080/",
          "height": 374
        },
        "outputId": "1080489d-0bfb-4946-ba45-2659e36147f3"
      },
      "source": [
        "from joblib import load\n",
        "from sklearn.metrics import accuracy_score\n",
        "\n",
        "!wget \"https://github.com/NickCis/maestria-dm-datasets/blob/master/tp-2/models.joblib?raw=true\" -O /content/models.joblib\n",
        "models = load('/content/models.joblib')\n",
        "\n",
        "y_pred = models['clf_gb'].predict(testing[features])\n",
        "print(accuracy_score(testing[target], y_pred))"
      ],
      "execution_count": null,
      "outputs": [
        {
          "output_type": "stream",
          "text": [
            "--2020-07-07 15:21:30--  https://github.com/NickCis/maestria-dm-datasets/blob/master/tp-2/models.joblib?raw=true\n",
            "Resolving github.com (github.com)... 140.82.114.4\n",
            "Connecting to github.com (github.com)|140.82.114.4|:443... connected.\n",
            "HTTP request sent, awaiting response... 302 Found\n",
            "Location: https://github.com/NickCis/maestria-dm-datasets/raw/master/tp-2/models.joblib [following]\n",
            "--2020-07-07 15:21:30--  https://github.com/NickCis/maestria-dm-datasets/raw/master/tp-2/models.joblib\n",
            "Reusing existing connection to github.com:443.\n",
            "HTTP request sent, awaiting response... 302 Found\n",
            "Location: https://raw.githubusercontent.com/NickCis/maestria-dm-datasets/master/tp-2/models.joblib [following]\n",
            "--2020-07-07 15:21:30--  https://raw.githubusercontent.com/NickCis/maestria-dm-datasets/master/tp-2/models.joblib\n",
            "Resolving raw.githubusercontent.com (raw.githubusercontent.com)... 151.101.0.133, 151.101.64.133, 151.101.128.133, ...\n",
            "Connecting to raw.githubusercontent.com (raw.githubusercontent.com)|151.101.0.133|:443... connected.\n",
            "HTTP request sent, awaiting response... 200 OK\n",
            "Length: 9881092 (9.4M) [application/octet-stream]\n",
            "Saving to: ‘/content/models.joblib’\n",
            "\n",
            "\r/content/models.job   0%[                    ]       0  --.-KB/s               \r/content/models.job  20%[===>                ]   1.95M  9.69MB/s               \r/content/models.job  67%[============>       ]   6.37M  15.9MB/s               \r/content/models.job 100%[===================>]   9.42M  19.5MB/s    in 0.5s    \n",
            "\n",
            "2020-07-07 15:21:31 (19.5 MB/s) - ‘/content/models.joblib’ saved [9881092/9881092]\n",
            "\n",
            "0.7405956112852664\n"
          ],
          "name": "stdout"
        }
      ]
    }
  ]
}